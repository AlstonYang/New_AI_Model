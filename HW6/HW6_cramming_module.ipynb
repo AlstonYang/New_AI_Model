{
 "cells": [
  {
   "cell_type": "markdown",
   "metadata": {},
   "source": [
    "### Import related package"
   ]
  },
  {
   "cell_type": "code",
   "execution_count": 1,
   "metadata": {},
   "outputs": [],
   "source": [
    "import tensorflow as tf\n",
    "import pandas as pd\n",
    "import numpy as np\n",
    "from sklearn.preprocessing import MinMaxScaler\n",
    "import matplotlib.pyplot as plt\n",
    "%matplotlib inline"
   ]
  },
  {
   "cell_type": "markdown",
   "metadata": {},
   "source": [
    "### Control memory usage space for GPU"
   ]
  },
  {
   "cell_type": "code",
   "execution_count": 2,
   "metadata": {},
   "outputs": [],
   "source": [
    "gpu_options = tf.compat.v1.GPUOptions(per_process_gpu_memory_fraction=0.3)\n",
    "sess = tf.compat.v1.Session(config=tf.compat.v1.ConfigProto(gpu_options=gpu_options))\n",
    "tf.compat.v1.keras.backend.set_session(sess)"
   ]
  },
  {
   "cell_type": "markdown",
   "metadata": {},
   "source": [
    "### Preprocessing the data"
   ]
  },
  {
   "cell_type": "code",
   "execution_count": 3,
   "metadata": {},
   "outputs": [],
   "source": [
    "def read(path):\n",
    "    return pd.read_csv(path)"
   ]
  },
  {
   "cell_type": "code",
   "execution_count": 4,
   "metadata": {},
   "outputs": [],
   "source": [
    "def buildTrain(train, pastWeek=4, futureWeek=1, defaultWeek=1):\n",
    "    X_train, Y_train = [], []\n",
    "    for i in range(train.shape[0]-futureWeek-pastWeek):\n",
    "        X = np.array(train.iloc[i:i+defaultWeek])\n",
    "        X = np.append(X,train[\"CCSP\"].iloc[i+defaultWeek:i+pastWeek])\n",
    "        X_train.append(X.reshape(X.size))\n",
    "        Y_train.append(np.array(train.iloc[i+pastWeek:i+pastWeek+futureWeek][\"CCSP\"]))\n",
    "    return np.array(X_train), np.array(Y_train)"
   ]
  },
  {
   "cell_type": "markdown",
   "metadata": {},
   "source": [
    "### Min-max normalization"
   ]
  },
  {
   "cell_type": "code",
   "execution_count": 5,
   "metadata": {},
   "outputs": [],
   "source": [
    "sc = MinMaxScaler(feature_range = (0, 1))"
   ]
  },
  {
   "cell_type": "markdown",
   "metadata": {},
   "source": [
    "### Design get_data() to get data"
   ]
  },
  {
   "cell_type": "code",
   "execution_count": 6,
   "metadata": {},
   "outputs": [],
   "source": [
    "def get_data():\n",
    "    \n",
    "    ## Read weekly copper price data\n",
    "    path = \"WeeklyFinalData.csv\"\n",
    "    data = read(path)\n",
    "    \n",
    "    date = data[\"Date\"]\n",
    "    data.drop(\"Date\", axis=1, inplace=True)\n",
    "    \n",
    "    ## Add time lag (pastWeek=4, futureWeek=1)\n",
    "    x_data, y_data = buildTrain(data)\n",
    "    \n",
    "#     ## Data split\n",
    "#     x_train = x_data[0:int(x_data.shape[0]*0.8)]\n",
    "#     x_test = x_data[int(x_data.shape[0]*0.8):]\n",
    "    \n",
    "#     y_train = y_data[0:int(y_data.shape[0]*0.8)]\n",
    "#     y_test = y_data[int(y_data.shape[0]*0.8):]\n",
    "    \n",
    "    ## Normalize\n",
    "    x_train_scaled = sc.fit_transform(x_data)\n",
    "    y_train_scaled = sc.fit_transform(y_data)\n",
    "    \n",
    "    \n",
    "    return (x_train_scaled, y_train_scaled)"
   ]
  },
  {
   "cell_type": "markdown",
   "metadata": {},
   "source": [
    "### Network class"
   ]
  },
  {
   "cell_type": "code",
   "execution_count": 18,
   "metadata": {},
   "outputs": [],
   "source": [
    "class Network():\n",
    "    \n",
    "    def __init__(self, nb_neuro):\n",
    "        \n",
    "        x_train_scaled, y_train_scaled = get_data()\n",
    "        \n",
    "        # Stop criteria - threshold\n",
    "        self.threshold_for_error = 1e-1*5\n",
    "        self.threshold_for_lr = 1e-4\n",
    "        \n",
    "        # Input data\n",
    "        self.x = tf.convert_to_tensor(x_train_scaled, np.float32)\n",
    "        self.y = tf.convert_to_tensor(y_train_scaled, np.float32)\n",
    "        \n",
    "        # Learning rate\n",
    "        self.learning_rate = 1e-2\n",
    "        \n",
    "        # Optimizer\n",
    "#         self.optimizer = tf.optimizers.SGD(self.learning_rate)\n",
    "        \n",
    "         # Hidden layer I\n",
    "        self.n_neurons_in_h1 = nb_neuro\n",
    "        self.W1 = tf.Variable(tf.random.truncated_normal([self.x.shape[1], self.n_neurons_in_h1], mean=0, stddev=1))\n",
    "        self.b1 = tf.Variable(tf.random.truncated_normal([self.n_neurons_in_h1], mean=0, stddev=1))\n",
    "\n",
    "        # Output layer\n",
    "        self.Wo = tf.Variable(tf.random.truncated_normal([self.n_neurons_in_h1, self.y.shape[1]], mean=0, stddev=1))\n",
    "        self.bo = tf.Variable(tf.random.truncated_normal([self.y.shape[1]], mean=0, stddev=1))\n",
    "\n",
    "        # Whether the network is acceptable\n",
    "        self.acceptable = False\n",
    "        \n",
    "        # forward operation\n",
    "    def forward(self,  reg_strength= 0):\n",
    "        with tf.GradientTape() as tape:\n",
    "\n",
    "            y1 = tf.nn.relu((tf.matmul(self.x, self.W1)+self.b1))\n",
    "            yo = (tf.matmul(y1,self.Wo)+self.bo)\n",
    "\n",
    "            # performance measure\n",
    "            diff = yo-self.y\n",
    "            loss = tf.reduce_mean(diff**2) + reg_strength * (tf.nn.l2_loss(self.W1) + tf.nn.l2_loss(self.Wo) + tf.nn.l2_loss(self.b1) + tf.nn.l2_loss(self.bo))*2\n",
    "\n",
    "        return(yo, loss, tape)\n",
    "\n",
    "    # backward operation\n",
    "    def backward_SGD(self,tape,loss):\n",
    "\n",
    "        optimizer = tf.optimizers.SGD(self.learning_rate)\n",
    "        gradients = tape.gradient(loss, [self.W1, self.Wo, self.b1, self.bo])\n",
    "        optimizer.apply_gradients(zip(gradients, [self.W1, self.Wo, self.b1, self.bo]))\n",
    "        \n",
    "    def backward_RMS(self,tape,loss):\n",
    "\n",
    "        optimizer = tf.keras.optimizers.RMSprop(self.learning_rate)\n",
    "        gradients = tape.gradient(loss, [self.W1, self.Wo, self.b1, self.bo])\n",
    "        optimizer.apply_gradients(zip(gradients, [self.W1, self.Wo, self.b1, self.bo]))"
   ]
  },
  {
   "cell_type": "markdown",
   "metadata": {},
   "source": [
    "### Matching module"
   ]
  },
  {
   "cell_type": "code",
   "execution_count": 19,
   "metadata": {},
   "outputs": [],
   "source": [
    "# tunning the parameter\n",
    "def matching_module(network):\n",
    "\n",
    "    \n",
    "    while True:\n",
    "\n",
    "        yo, loss, tape = network.forward()\n",
    "\n",
    "        if tf.reduce_all(tf.math.abs(yo-network.y) <= network.threshold_for_error):\n",
    "            network.acceptable = True\n",
    "            return(\"Acceptable\")\n",
    "\n",
    "\n",
    "        else:\n",
    "                # Save the current papameter\n",
    "                W1_pre = network.W1\n",
    "                Wo_pre = network.Wo\n",
    "                b1_pre = network.b1\n",
    "                bo_pre = network.bo\n",
    "                loss_pre = loss\n",
    "\n",
    "                # tuning and check the loss performance of the next step\n",
    "                network.backward_SGD(tape,loss)\n",
    "                yo, loss, tape = network.forward()\n",
    "\n",
    "                # Confirm whether the adjusted loss value is smaller than the current one\n",
    "                if loss < loss_pre:\n",
    "\n",
    "                    # Multiply the learning rate by 1.2\n",
    "                    network.learning_rate *= 1.2\n",
    "\n",
    "                # On the contrary, reduce the learning rate\n",
    "                else:\n",
    "\n",
    "                    # Identify whether the current learning rate is less than the threshold\n",
    "                    if network.learning_rate < network.threshold_for_lr:\n",
    "                        network.acceptable = False\n",
    "                        # If true, return the current model parameters\n",
    "                        return(\"Unacceptable\")\n",
    "\n",
    "                    # On the contrary, maintain the original parameter and adjust the learning rate\n",
    "                    else:\n",
    "                        network.W1 = W1_pre\n",
    "                        network.Wo = Wo_pre\n",
    "                        network.b1 = b1_pre\n",
    "                        network.bo = bo_pre\n",
    "                        network.learning_rate *= 0.7"
   ]
  },
  {
   "cell_type": "markdown",
   "metadata": {},
   "source": [
    "### Regularizing module"
   ]
  },
  {
   "cell_type": "code",
   "execution_count": 20,
   "metadata": {},
   "outputs": [],
   "source": [
    "def regularization(network):\n",
    "\n",
    "    if network.acceptable:\n",
    "\n",
    "        W1_pre, b1_pre, Wo_pre, bo_pre = network.W1, network.b1, network.Wo, network.bo\n",
    "#         network.optimizer = tf.keras.optimizers.RMSprop(network.learning_rate)\n",
    "        yo, loss, tape = network.forward(1e-2)\n",
    "    \n",
    "        for _ in range(100):\n",
    "            \n",
    "            loss_pre = loss\n",
    "            network.backward_RMS(tape, loss)\n",
    "            yo, loss, tape = network.forward(1e-2)\n",
    "           \n",
    "            if loss <= loss_pre:\n",
    "                if tf.reduce_all(tf.math.abs(yo-network.y) <= network.threshold_for_error):\n",
    "                    network.learning_rate *= 1.2\n",
    "\n",
    "                else:\n",
    "                    network.W1, network.b1, network.Wo, network.bo = W1_pre, b1_pre, Wo_pre, bo_pre\n",
    "                    return(\"Acceptable SLFN\")\n",
    "#                     break\n",
    "\n",
    "            else:\n",
    "\n",
    "                network.W1, network.b1, network.Wo, network.bo = W1_pre, b1_pre, Wo_pre, bo_pre\n",
    "\n",
    "                if network.learning_rate > network.threshold_for_lr:\n",
    "                    network.learning_rate *= 0.7\n",
    "\n",
    "                else:\n",
    "                    return(\"Acceptable SLFN\")\n",
    "#                     break\n",
    "\n",
    "    else:\n",
    "        return(\"The input network should be an acceptable network.\")"
   ]
  },
  {
   "cell_type": "markdown",
   "metadata": {},
   "source": [
    "### Reorganizing module"
   ]
  },
  {
   "cell_type": "code",
   "execution_count": 21,
   "metadata": {},
   "outputs": [],
   "source": [
    "def reorganizing(network):\n",
    "    \n",
    "    if network.acceptable:\n",
    "        \n",
    "        k = 1\n",
    "        p = network.n_neurons_in_h1\n",
    "\n",
    "        while True:\n",
    "            if k > p:\n",
    "                return(\"Finished!\")\n",
    "\n",
    "            else:\n",
    "                regularization(network)\n",
    "                network_pre = network\n",
    "                network.acceptable = False\n",
    "                network.W1 = tf.Variable(tf.concat([network.W1[:,:k-1],network.W1[:,k:]],1))\n",
    "                network.b1 = tf.Variable(tf.concat([network.b1[:k-1],network.b1[k:]],0))\n",
    "                network.Wo = tf.Variable(tf.concat([network.Wo[:k-1,:],network.Wo[k:,:]],0))\n",
    "\n",
    "    #             print(network.W1.shape, network.Wo.shape, network.b1.shape)\n",
    "                matching_module(network)\n",
    "\n",
    "                if network.acceptable:\n",
    "                    print(\"A.neuro index: %d, nb of neuro:%d\" %(k, p))\n",
    "                    p-=1\n",
    "\n",
    "                else:\n",
    "                    network = network_pre\n",
    "                    print(\"U.neuro index: %d, nb of neuro:%d\" %(k, p))\n",
    "                    k+=1\n",
    "    else:\n",
    "        return (\"The input network should be an acceptable network.\")"
   ]
  },
  {
   "cell_type": "markdown",
   "metadata": {},
   "source": [
    "### Cramming module"
   ]
  },
  {
   "cell_type": "code",
   "execution_count": 22,
   "metadata": {},
   "outputs": [],
   "source": [
    "def cramming_module(network):\n",
    "    ## Set the random seed\n",
    "    tf.random.set_seed(5)\n",
    "    \n",
    "    ## Find unsatisfied situation\n",
    "    yo, loss, tape = network.forward()\n",
    "    \n",
    "    ## Unsatisfied situation\n",
    "    undesired_index = tf.where(tf.math.abs(yo-network.y) > network.threshold_for_error)\n",
    "    \n",
    "    if undesired_index.shape[0]==1:\n",
    "        \n",
    "        undesired_index = undesired_index[0][0]\n",
    "        undesired_data = tf.reshape(network.x[undesired_index],[1,-1])\n",
    "\n",
    "        ## Remove the only data that does not meet the error term\n",
    "        left_data = network.x[:undesired_index,:]\n",
    "        right_data = network.x[undesired_index+1:,:]\n",
    "        remain_tensor = tf.concat([left_data, right_data], 0)\n",
    "\n",
    "        while True:\n",
    "\n",
    "            ## Find m-vector r\n",
    "            gamma = tf.random.uniform(shape=[1,network.x.shape[1]])\n",
    "\n",
    "            subtract_undesired_data = tf.subtract(remain_tensor, gamma)\n",
    "            matmul_value = tf.matmul(gamma,tf.transpose(subtract_undesired_data))\n",
    "\n",
    "            ## Find the gamma\n",
    "\n",
    "            while True:\n",
    "               \n",
    "                ## Find the tiny value: zeta\n",
    "                zeta = tf.random.uniform(shape=[1])\n",
    "\n",
    "                if np.all(tf.less(tf.multiply(tf.add(zeta,matmul_value),tf.subtract(zeta,matmul_value)),0)):\n",
    "                    break\n",
    "\n",
    "            break\n",
    "\n",
    "        ## The weight of input layer to hidden layer I\n",
    "        w10 = gamma\n",
    "        w11 = gamma\n",
    "        w12 = gamma\n",
    "\n",
    "        W1_new = tf.transpose(tf.concat([w10,w11,w12],0))\n",
    "\n",
    "        ## The bias of input layer to hidden layer I\n",
    "        matual_value = tf.matmul(gamma,tf.transpose(undesired_data))\n",
    "\n",
    "        b10 = tf.subtract(zeta,matual_value)\n",
    "        b11 = -matual_value\n",
    "        b12 = tf.subtract(-1*zeta,matual_value)\n",
    "\n",
    "        b1_new = tf.reshape(tf.concat([b10,b11,b12],0),[3])\n",
    "\n",
    "        ## The weight of hidden layer I to output layer\n",
    "        gap = network.y[undesired_index]-yo[undesired_index]\n",
    "\n",
    "        wo0 = gap/zeta\n",
    "        wo1 = (-2*gap)/zeta\n",
    "        wo2 = gap/zeta\n",
    "\n",
    "        Wo_new = tf.reshape(tf.concat([wo0,wo1,wo2],0),[-1,1])\n",
    "\n",
    "        ## Add new neuroes to the network\n",
    "        network.W1 = tf.concat([network.W1, W1_new],1)\n",
    "        network.b1 = tf.concat([network.b1, b1_new],0)\n",
    "        network.Wo = tf.concat([network.Wo, Wo_new],0)\n",
    "        \n",
    "        if tf.reduce_all(tf.math.abs(yo-network.y) <= network.threshold_for_error):\n",
    "            network.acceptable = True\n",
    "            print(\"Cramming finished!\")\n",
    "            \n",
    "    else:\n",
    "        print(\"Undesired data > 1\")"
   ]
  },
  {
   "cell_type": "markdown",
   "metadata": {},
   "source": [
    "### Construct a instance of network\n",
    "- trained through the matching module, reorganizing module, and cramming module"
   ]
  },
  {
   "cell_type": "code",
   "execution_count": 23,
   "metadata": {},
   "outputs": [],
   "source": [
    "def main():\n",
    "    \n",
    "    network = Network(32)\n",
    "    matching_module(network)\n",
    "    print(network.acceptable)\n",
    "    \n",
    "    if not network.acceptable:\n",
    "        cramming_module(network)\n",
    "        \n",
    "    reorganizing(network)"
   ]
  },
  {
   "cell_type": "code",
   "execution_count": 24,
   "metadata": {},
   "outputs": [
    {
     "name": "stdout",
     "output_type": "stream",
     "text": [
      "True\n",
      "A.neuro index: 1, nb of neuro:32\n",
      "A.neuro index: 1, nb of neuro:31\n",
      "A.neuro index: 1, nb of neuro:30\n",
      "A.neuro index: 1, nb of neuro:29\n",
      "A.neuro index: 1, nb of neuro:28\n",
      "A.neuro index: 1, nb of neuro:27\n",
      "A.neuro index: 1, nb of neuro:26\n",
      "A.neuro index: 1, nb of neuro:25\n",
      "A.neuro index: 1, nb of neuro:24\n",
      "A.neuro index: 1, nb of neuro:23\n",
      "U.neuro index: 1, nb of neuro:22\n",
      "U.neuro index: 2, nb of neuro:22\n",
      "U.neuro index: 3, nb of neuro:22\n",
      "U.neuro index: 4, nb of neuro:22\n",
      "U.neuro index: 5, nb of neuro:22\n",
      "U.neuro index: 6, nb of neuro:22\n",
      "U.neuro index: 7, nb of neuro:22\n",
      "U.neuro index: 8, nb of neuro:22\n",
      "U.neuro index: 9, nb of neuro:22\n",
      "U.neuro index: 10, nb of neuro:22\n",
      "U.neuro index: 11, nb of neuro:22\n",
      "U.neuro index: 12, nb of neuro:22\n",
      "U.neuro index: 13, nb of neuro:22\n",
      "U.neuro index: 14, nb of neuro:22\n",
      "U.neuro index: 15, nb of neuro:22\n",
      "U.neuro index: 16, nb of neuro:22\n",
      "U.neuro index: 17, nb of neuro:22\n",
      "U.neuro index: 18, nb of neuro:22\n",
      "U.neuro index: 19, nb of neuro:22\n",
      "U.neuro index: 20, nb of neuro:22\n",
      "U.neuro index: 21, nb of neuro:22\n",
      "U.neuro index: 22, nb of neuro:22\n"
     ]
    }
   ],
   "source": [
    "if __name__ == \"__main__\":\n",
    "    main()"
   ]
  }
 ],
 "metadata": {
  "kernelspec": {
   "display_name": "Python 3",
   "language": "python",
   "name": "python3"
  },
  "language_info": {
   "codemirror_mode": {
    "name": "ipython",
    "version": 3
   },
   "file_extension": ".py",
   "mimetype": "text/x-python",
   "name": "python",
   "nbconvert_exporter": "python",
   "pygments_lexer": "ipython3",
   "version": "3.7.4"
  }
 },
 "nbformat": 4,
 "nbformat_minor": 4
}
