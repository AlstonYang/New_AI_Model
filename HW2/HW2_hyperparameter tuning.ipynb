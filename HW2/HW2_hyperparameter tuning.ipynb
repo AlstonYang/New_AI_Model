{
 "cells": [
  {
   "cell_type": "markdown",
   "metadata": {
    "id": "V3ckGCsc59zR"
   },
   "source": [
    "## Import related API"
   ]
  },
  {
   "cell_type": "code",
   "execution_count": 3,
   "metadata": {
    "executionInfo": {
     "elapsed": 3044,
     "status": "ok",
     "timestamp": 1616838642242,
     "user": {
      "displayName": "楊仁瀚",
      "photoUrl": "",
      "userId": "10638930497464391672"
     },
     "user_tz": -480
    },
    "id": "DZ7-4Lqg3y5y"
   },
   "outputs": [
    {
     "name": "stdout",
     "output_type": "stream",
     "text": [
      "INFO:tensorflow:Enabling eager execution\n",
      "INFO:tensorflow:Enabling v2 tensorshape\n",
      "INFO:tensorflow:Enabling resource variables\n",
      "INFO:tensorflow:Enabling tensor equality\n",
      "INFO:tensorflow:Enabling control flow v2\n"
     ]
    }
   ],
   "source": [
    "import pandas as pd\n",
    "import numpy as np\n",
    "import matplotlib.pyplot as plt\n",
    "\n",
    "import tensorflow as tf\n",
    "import tensorflow.keras as keras\n",
    "from tensorflow.keras import Sequential, layers, backend\n",
    "from tensorflow.keras.layers import Dense, LSTM, Dropout, TimeDistributed, LeakyReLU, GRU, BatchNormalization\n",
    "from keras.layers.core import RepeatVector\n",
    "from keras.callbacks import EarlyStopping\n",
    "\n",
    "from sklearn.metrics import mean_squared_error\n",
    "from itertools import product\n",
    "\n",
    "%matplotlib inline"
   ]
  },
  {
   "cell_type": "markdown",
   "metadata": {},
   "source": [
    "### Control the upper limit of GPU memory"
   ]
  },
  {
   "cell_type": "code",
   "execution_count": 4,
   "metadata": {},
   "outputs": [],
   "source": [
    "gpu_options = tf.compat.v1.GPUOptions(per_process_gpu_memory_fraction=0.3)\n",
    "sess = tf.compat.v1.Session(config=tf.compat.v1.ConfigProto(gpu_options=gpu_options))\n",
    "tf.compat.v1.keras.backend.set_session(sess)"
   ]
  },
  {
   "cell_type": "markdown",
   "metadata": {},
   "source": [
    "### Read the data"
   ]
  },
  {
   "cell_type": "code",
   "execution_count": 5,
   "metadata": {
    "colab": {
     "base_uri": "https://localhost:8080/"
    },
    "executionInfo": {
     "elapsed": 20157,
     "status": "ok",
     "timestamp": 1616838659374,
     "user": {
      "displayName": "楊仁瀚",
      "photoUrl": "",
      "userId": "10638930497464391672"
     },
     "user_tz": -480
    },
    "id": "HovSE_YS9AEO",
    "outputId": "d327c0b4-23c7-4c81-8577-38a0118688d2"
   },
   "outputs": [],
   "source": [
    "# from google.colab import drive\n",
    "# drive.mount('/content/gdrive')\n",
    "\n",
    "def read(path):\n",
    "    return pd.read_csv(path)"
   ]
  },
  {
   "cell_type": "code",
   "execution_count": 6,
   "metadata": {
    "executionInfo": {
     "elapsed": 20721,
     "status": "ok",
     "timestamp": 1616838659941,
     "user": {
      "displayName": "楊仁瀚",
      "photoUrl": "",
      "userId": "10638930497464391672"
     },
     "user_tz": -480
    },
    "id": "GxcSLwVY9FKy"
   },
   "outputs": [],
   "source": [
    "path = \"WeeklyFinalData.csv\"\n",
    "finalData = read(path)"
   ]
  },
  {
   "cell_type": "code",
   "execution_count": 7,
   "metadata": {
    "executionInfo": {
     "elapsed": 20719,
     "status": "ok",
     "timestamp": 1616838659942,
     "user": {
      "displayName": "楊仁瀚",
      "photoUrl": "",
      "userId": "10638930497464391672"
     },
     "user_tz": -480
    },
    "id": "dkK-XcAq13_c"
   },
   "outputs": [],
   "source": [
    "train = finalData"
   ]
  },
  {
   "cell_type": "code",
   "execution_count": 8,
   "metadata": {
    "executionInfo": {
     "elapsed": 20717,
     "status": "ok",
     "timestamp": 1616838659942,
     "user": {
      "displayName": "楊仁瀚",
      "photoUrl": "",
      "userId": "10638930497464391672"
     },
     "user_tz": -480
    },
    "id": "W0abl5uIau_W"
   },
   "outputs": [],
   "source": [
    "date = train[\"Date\"]\n",
    "train.drop(\"Date\",axis=1,inplace=True)"
   ]
  },
  {
   "cell_type": "markdown",
   "metadata": {
    "id": "YRozLYRpau_Y"
   },
   "source": [
    "## Data preprocessing"
   ]
  },
  {
   "cell_type": "markdown",
   "metadata": {
    "id": "qOMLTo856gQc"
   },
   "source": [
    "### Add lag time as a predicted factor \n",
    "1. Add lag time from 1 to 4 for CCSP (Yangtze River nonferrous metals, China)\n",
    "2. Split the data to Training set & Test set"
   ]
  },
  {
   "cell_type": "code",
   "execution_count": 9,
   "metadata": {
    "executionInfo": {
     "elapsed": 20717,
     "status": "ok",
     "timestamp": 1616838659943,
     "user": {
      "displayName": "楊仁瀚",
      "photoUrl": "",
      "userId": "10638930497464391672"
     },
     "user_tz": -480
    },
    "id": "dXrI2P985jos"
   },
   "outputs": [],
   "source": [
    "def buildTrain(train, pastWeek=1, futureWeek=4, defaultWeek=1):\n",
    "    X_train, Y_train = [], []\n",
    "    for i in range(train.shape[0]-futureWeek-pastWeek):\n",
    "        X = np.array(train.iloc[i:i+defaultWeek])\n",
    "        X = np.append(X,train[\"CCSP\"].iloc[i+defaultWeek:i+pastWeek])\n",
    "        X_train.append(X.reshape(X.size))\n",
    "        Y_train.append(np.array(train.iloc[i+pastWeek:i+pastWeek+futureWeek][\"CCSP\"]))\n",
    "    return np.array(X_train), np.array(Y_train)"
   ]
  },
  {
   "cell_type": "markdown",
   "metadata": {
    "id": "2Zj_gcccau_Z"
   },
   "source": [
    "### Min-max scaling \n",
    "The data is scaled to a fixed range [0,1]"
   ]
  },
  {
   "cell_type": "code",
   "execution_count": 10,
   "metadata": {
    "executionInfo": {
     "elapsed": 20714,
     "status": "ok",
     "timestamp": 1616838659943,
     "user": {
      "displayName": "楊仁瀚",
      "photoUrl": "",
      "userId": "10638930497464391672"
     },
     "user_tz": -480
    },
    "id": "q4tnCc9Ci5-3"
   },
   "outputs": [],
   "source": [
    "from sklearn.preprocessing import MinMaxScaler\n",
    "sc = MinMaxScaler(feature_range = (0, 1))"
   ]
  },
  {
   "cell_type": "markdown",
   "metadata": {},
   "source": [
    "### Add data to the specified time lag and normalize"
   ]
  },
  {
   "cell_type": "code",
   "execution_count": 12,
   "metadata": {
    "executionInfo": {
     "elapsed": 20702,
     "status": "ok",
     "timestamp": 1616838659944,
     "user": {
      "displayName": "楊仁瀚",
      "photoUrl": "",
      "userId": "10638930497464391672"
     },
     "user_tz": -480
    },
    "id": "9aCU6PXt7Ydb"
   },
   "outputs": [],
   "source": [
    "def dataTimeLag(time_lag):\n",
    "\n",
    "    print(\"Lag time = {}\".format(time_lag))\n",
    "    ## Time lag\n",
    "    X1_train, Y1_train= buildTrain(train, pastWeek=time_lag, futureWeek=1)\n",
    "\n",
    "    ## Split date to training & test data\n",
    "    X1_training = pd.DataFrame(X1_train[0:int(X1_train.shape[0]*0.8)])\n",
    "    X1_test = pd.DataFrame(X1_train[int(X1_train.shape[0]*0.8):])\n",
    "\n",
    "    Y1_training = pd.DataFrame(Y1_train[0:int(Y1_train.shape[0]*0.8)])\n",
    "    Y1_test = pd.DataFrame(Y1_train[int(Y1_train.shape[0]*0.8):])\n",
    "\n",
    "    ## Normalize\n",
    "    print(\"---Normalize---\")\n",
    "    X1_training_scaled = sc.fit_transform(X1_training)\n",
    "    X1_test_scaled = sc.transform(X1_test)\n",
    "\n",
    "    Y1_training_scaled = sc.fit_transform(Y1_training)\n",
    "    Y1_test_scaled = sc.transform(Y1_test)\n",
    "\n",
    "    ## Check the data dimension\n",
    "    print(\"---Check the data dimension---\")\n",
    "    print(\"X1_training_scaled:{0}\".format(X1_training_scaled.shape))\n",
    "    print(\"Y1_training_scaled:{0}\".format(Y1_training_scaled.shape))\n",
    "    print(\"X1_test_scaled:{0}\".format(X1_test_scaled.shape))\n",
    "    print(\"Y1_test_scaled:{0}\".format(Y1_test_scaled.shape))\n",
    "\n",
    "    return [X1_training_scaled, Y1_training_scaled, X1_test_scaled, Y1_test_scaled]"
   ]
  },
  {
   "cell_type": "markdown",
   "metadata": {
    "id": "PqNv5vJyPsBE"
   },
   "source": [
    "## Building Model"
   ]
  },
  {
   "cell_type": "markdown",
   "metadata": {
    "id": "fXho5zzj6N9J"
   },
   "source": [
    "### 2-layer Neural Network"
   ]
  },
  {
   "cell_type": "code",
   "execution_count": 13,
   "metadata": {
    "executionInfo": {
     "elapsed": 20695,
     "status": "ok",
     "timestamp": 1616838659945,
     "user": {
      "displayName": "楊仁瀚",
      "photoUrl": "",
      "userId": "10638930497464391672"
     },
     "user_tz": -480
    },
    "id": "BVmQxhxKwuJF"
   },
   "outputs": [],
   "source": [
    "def buildTwoLayerNN(training_data_shape, setting):\n",
    "\n",
    "    keras.backend.clear_session()\n",
    "    regressor = Sequential()\n",
    "    L2 = tf.keras.regularizers.L2(setting[4])\n",
    "    regressor.add(Dense(units=setting[1], activation =setting[0], input_dim=training_data_shape, kernel_initializer = setting[2], kernel_regularizer= L2))\n",
    "    regressor.add(Dense(units=1)) \n",
    "\n",
    "\n",
    "    regressor.compile(optimizer=setting[3], loss=\"mean_squared_error\", metrics=[tf.keras.metrics.RootMeanSquaredError()])\n",
    "\n",
    "    return regressor"
   ]
  },
  {
   "cell_type": "markdown",
   "metadata": {},
   "source": [
    "### Training the model"
   ]
  },
  {
   "cell_type": "code",
   "execution_count": 14,
   "metadata": {
    "executionInfo": {
     "elapsed": 20689,
     "status": "ok",
     "timestamp": 1616838659945,
     "user": {
      "displayName": "楊仁瀚",
      "photoUrl": "",
      "userId": "10638930497464391672"
     },
     "user_tz": -480
    },
    "id": "ItBqvK4L9-UN"
   },
   "outputs": [],
   "source": [
    "def training_model(data, setting, setting_name):\n",
    "\n",
    "    ## data\n",
    "    ### [X1_training_scaled, Y1_training_scaled, X1_test_scaled, Y1_test_scaled]\n",
    "\n",
    "    ## Training model\n",
    "\n",
    "    #training_data_shape, activation_function, hidden_node, initializer, optimizer\n",
    "    input_sahpe = data[0].shape[1]\n",
    "    regressor = buildTwoLayerNN(input_sahpe, setting[1:])\n",
    "    history = regressor.fit(data[0], data[1], epochs= setting[0], verbose=0)\n",
    "\n",
    "\n",
    "    RMSE = [i for i in history.history[\"root_mean_squared_error\"]]\n",
    "    score_data = pd.DataFrame({\"Loss\":history.history[\"loss\"], \"RMSE\":RMSE})\n",
    "\n",
    "\n",
    "    ##Test the predict value\n",
    "    predict = regressor.predict(data[2])\n",
    "  \n",
    "    ##Using RMSE to evaluate the mdoel\n",
    "    score = np.sqrt(mean_squared_error(predict, data[3]))\n",
    "\n",
    "    ##Print out the result of all combinations\n",
    "    performance = {\n",
    "        \"Epochs\":setting_name[0],\n",
    "        \"Activation function\":setting_name[1],\n",
    "        \"Hidden nodes\":setting_name[2],\n",
    "        \"Initializer\":setting_name[3],\n",
    "        \"Optimizer\":setting_name[4],\n",
    "        \"Regularizer\":setting_name[5],\n",
    "        \"In-sample RMSE\": RMSE[-1],\n",
    "        \"Out-of-sample RMSE\": score\n",
    "    }\n",
    "    \n",
    "\n",
    "    ##Return the result\n",
    "    predicts = pd.DataFrame(predict)\n",
    "    return performance, predicts.stack().reset_index(drop=True)"
   ]
  },
  {
   "cell_type": "markdown",
   "metadata": {},
   "source": [
    "### Control model Hyperparameter\n",
    "such as:\n",
    "* input factor dimension\n",
    "* epoch\n",
    "* activation_function\n",
    "* hidden_node\n",
    "* initializer\n",
    "* optimizer"
   ]
  },
  {
   "cell_type": "code",
   "execution_count": 15,
   "metadata": {
    "colab": {
     "base_uri": "https://localhost:8080/",
     "height": 236
    },
    "executionInfo": {
     "elapsed": 21140,
     "status": "error",
     "timestamp": 1616838660407,
     "user": {
      "displayName": "楊仁瀚",
      "photoUrl": "",
      "userId": "10638930497464391672"
     },
     "user_tz": -480
    },
    "id": "vxaHHmlcDxkt",
    "outputId": "f3bddc5f-f230-491b-bd9f-10930a74f763"
   },
   "outputs": [],
   "source": [
    "def main(input_data):\n",
    "\n",
    "    ## data, epoch, activation_function, hidden_node, initializer, optimizer, L2 regularization\n",
    "    ## epoches, activation_functions, hidden_nodes option\n",
    "    epoches = [100, 200, 300]\n",
    "    activation_functions = [\"sigmoid\", \"tanh\", \"relu\"]\n",
    "    hidden_nodes = [5, 8, 11]\n",
    "\n",
    "\n",
    "    ## initializer option\n",
    "    small_random = tf.keras.initializers.RandomNormal(mean=0., stddev=1.)\n",
    "    Xavier = tf.keras.initializers.GlorotNormal()\n",
    "    initializers = [small_random, Xavier]\n",
    "    initializers_name = [\"small_random\", \"Xavier\"]\n",
    "\n",
    "    # optimizer & learning rate decay option\n",
    "    learning_rate_fn = tf.keras.optimizers.schedules.CosineDecay(\n",
    "      initial_learning_rate = 0.01, \n",
    "      decay_steps = 10\n",
    "    )\n",
    "\n",
    "    # SGD with Cosine Learning rate decay\n",
    "    SGD_cosine = tf.keras.optimizers.SGD(\n",
    "      learning_rate=learning_rate_fn,\n",
    "      name = \"SGD_with_cosine\"\n",
    "    )\n",
    "\n",
    "    # Adam with Cosine Learning rate decay\n",
    "    Adam_cosine = tf.keras.optimizers.Adam(\n",
    "      learning_rate=learning_rate_fn,\n",
    "      name = \"Adam_with_cosine\"\n",
    "    )\n",
    "\n",
    "   # Momentum\n",
    "    Momentum = tf.keras.optimizers.SGD(\n",
    "      learning_rate=0.01,\n",
    "      momentum=0.9,\n",
    "      name = \"Momentum\"\n",
    "    )\n",
    "\n",
    "    # Momentum with Cosine Learning rate decay\n",
    "    Mom_cosine = tf.keras.optimizers.SGD(\n",
    "      learning_rate=learning_rate_fn,\n",
    "      momentum=0.9,\n",
    "      name = \"Momentum_with_cosine\"\n",
    "    )\n",
    "\n",
    "    ## regulariztion term (lamda)\n",
    "    regularizer= [0, 0.001, 0.0001]\n",
    "    \n",
    "    ## optimizers option\n",
    "    optimizers = [\"SGD\", SGD_cosine, \"Adam\", Adam_cosine, Momentum, Mom_cosine]\n",
    "    optimizers_name = [\"SGD\", \"SGD_with_cosine\", \"Adam\", \"Adam_with_cosine\", \"Momentum\", \"Momentum_with_cosine\"]\n",
    "\n",
    "\n",
    "    ## a combination of hyperparameters for 2 layer neural network\n",
    "    sets = list(product(epoches, activation_functions, hidden_nodes, initializers, optimizers, regularizer))\n",
    "    sets_name = list(product(epoches, activation_functions, hidden_nodes, initializers_name, optimizers_name, regularizer))\n",
    "\n",
    "    ## create a dataframe to store the resulr, e.g., RMSE_scores, and predicted value\n",
    "    data = input_data\n",
    "    RMSE_scores = pd.DataFrame(columns = [\"Epochs\", \"Activation function\", \"Hidden nodes\", \"Optimizer\", \"Initializer\",\"Regularizer\",\"In-sample RMSE\",\"Out-of-sample RMSE\"])\n",
    "    predicts = pd.DataFrame(columns = list(range(94)))\n",
    "    \n",
    "    ## call the corresponding method to train the model and store the result of RMSE_scores, and predicted value\n",
    "    for i in range(len(sets)):\n",
    "        \n",
    "        performance, predict = training_model(data, sets[i], sets_name[i])\n",
    "        \n",
    "        RMSE_scores = RMSE_scores.append(performance, ignore_index=True)\n",
    "        predicts = predicts.append(predict, ignore_index=True)\n",
    "\n",
    "    return RMSE_scores, predicts"
   ]
  },
  {
   "cell_type": "code",
   "execution_count": 14,
   "metadata": {},
   "outputs": [
    {
     "name": "stdout",
     "output_type": "stream",
     "text": [
      "Lag time = 4\n",
      "---Normalize---\n",
      "---Check the data dimension---\n",
      "X1_training_scaled:(380, 18)\n",
      "Y1_training_scaled:(380, 1)\n",
      "X1_test_scaled:(95, 18)\n",
      "Y1_test_scaled:(95, 1)\n",
      "WARNING:tensorflow:5 out of the last 13 calls to <function Model.make_predict_function.<locals>.predict_function at 0x7ff750413ea0> triggered tf.function retracing. Tracing is expensive and the excessive number of tracings could be due to (1) creating @tf.function repeatedly in a loop, (2) passing tensors with different shapes, (3) passing Python objects instead of tensors. For (1), please define your @tf.function outside of the loop. For (2), @tf.function has experimental_relax_shapes=True option that relaxes argument shapes that can avoid unnecessary retracing. For (3), please refer to https://www.tensorflow.org/guide/function#controlling_retracing and https://www.tensorflow.org/api_docs/python/tf/function for  more details.\n",
      "WARNING:tensorflow:5 out of the last 13 calls to <function Model.make_predict_function.<locals>.predict_function at 0x7ff7504350d0> triggered tf.function retracing. Tracing is expensive and the excessive number of tracings could be due to (1) creating @tf.function repeatedly in a loop, (2) passing tensors with different shapes, (3) passing Python objects instead of tensors. For (1), please define your @tf.function outside of the loop. For (2), @tf.function has experimental_relax_shapes=True option that relaxes argument shapes that can avoid unnecessary retracing. For (3), please refer to https://www.tensorflow.org/guide/function#controlling_retracing and https://www.tensorflow.org/api_docs/python/tf/function for  more details.\n"
     ]
    }
   ],
   "source": [
    "## call the corresponding method to get the result\n",
    "if __name__ == \"__main__\":\n",
    "    data = dataTimeLag(4)\n",
    "    RMSE_scores, predicts = main(data)"
   ]
  },
  {
   "cell_type": "markdown",
   "metadata": {},
   "source": [
    "### The best top five models based on in-sample forecasting result"
   ]
  },
  {
   "cell_type": "code",
   "execution_count": 15,
   "metadata": {},
   "outputs": [
    {
     "data": {
      "text/html": [
       "<div>\n",
       "<style scoped>\n",
       "    .dataframe tbody tr th:only-of-type {\n",
       "        vertical-align: middle;\n",
       "    }\n",
       "\n",
       "    .dataframe tbody tr th {\n",
       "        vertical-align: top;\n",
       "    }\n",
       "\n",
       "    .dataframe thead th {\n",
       "        text-align: right;\n",
       "    }\n",
       "</style>\n",
       "<table border=\"1\" class=\"dataframe\">\n",
       "  <thead>\n",
       "    <tr style=\"text-align: right;\">\n",
       "      <th></th>\n",
       "      <th>Epochs</th>\n",
       "      <th>Activation function</th>\n",
       "      <th>Hidden nodes</th>\n",
       "      <th>Optimizer</th>\n",
       "      <th>Initializer</th>\n",
       "      <th>Regularizer</th>\n",
       "      <th>In-sample RMSE</th>\n",
       "      <th>Out-of-sample RMSE</th>\n",
       "    </tr>\n",
       "  </thead>\n",
       "  <tbody>\n",
       "    <tr>\n",
       "      <th>852</th>\n",
       "      <td>300</td>\n",
       "      <td>tanh</td>\n",
       "      <td>11</td>\n",
       "      <td>Adam</td>\n",
       "      <td>Xavier</td>\n",
       "      <td>0</td>\n",
       "      <td>0.039193</td>\n",
       "      <td>0.089589</td>\n",
       "    </tr>\n",
       "    <tr>\n",
       "      <th>960</th>\n",
       "      <td>300</td>\n",
       "      <td>relu</td>\n",
       "      <td>11</td>\n",
       "      <td>Adam</td>\n",
       "      <td>Xavier</td>\n",
       "      <td>0</td>\n",
       "      <td>0.039725</td>\n",
       "      <td>0.146489</td>\n",
       "    </tr>\n",
       "    <tr>\n",
       "      <th>925</th>\n",
       "      <td>300</td>\n",
       "      <td>relu</td>\n",
       "      <td>8</td>\n",
       "      <td>Adam</td>\n",
       "      <td>Xavier</td>\n",
       "      <td>0.001</td>\n",
       "      <td>0.039849</td>\n",
       "      <td>0.079309</td>\n",
       "    </tr>\n",
       "    <tr>\n",
       "      <th>926</th>\n",
       "      <td>300</td>\n",
       "      <td>relu</td>\n",
       "      <td>8</td>\n",
       "      <td>Adam</td>\n",
       "      <td>Xavier</td>\n",
       "      <td>0.0001</td>\n",
       "      <td>0.040007</td>\n",
       "      <td>0.067949</td>\n",
       "    </tr>\n",
       "    <tr>\n",
       "      <th>924</th>\n",
       "      <td>300</td>\n",
       "      <td>relu</td>\n",
       "      <td>8</td>\n",
       "      <td>Adam</td>\n",
       "      <td>Xavier</td>\n",
       "      <td>0</td>\n",
       "      <td>0.040484</td>\n",
       "      <td>0.079757</td>\n",
       "    </tr>\n",
       "  </tbody>\n",
       "</table>\n",
       "</div>"
      ],
      "text/plain": [
       "    Epochs Activation function Hidden nodes Optimizer Initializer Regularizer  \\\n",
       "852    300                tanh           11      Adam      Xavier           0   \n",
       "960    300                relu           11      Adam      Xavier           0   \n",
       "925    300                relu            8      Adam      Xavier       0.001   \n",
       "926    300                relu            8      Adam      Xavier      0.0001   \n",
       "924    300                relu            8      Adam      Xavier           0   \n",
       "\n",
       "     In-sample RMSE  Out-of-sample RMSE  \n",
       "852        0.039193            0.089589  \n",
       "960        0.039725            0.146489  \n",
       "925        0.039849            0.079309  \n",
       "926        0.040007            0.067949  \n",
       "924        0.040484            0.079757  "
      ]
     },
     "execution_count": 15,
     "metadata": {},
     "output_type": "execute_result"
    }
   ],
   "source": [
    "RMSE_scores.sort_values(\"In-sample RMSE\", inplace=True)\n",
    "RMSE_scores.head(5)"
   ]
  },
  {
   "cell_type": "markdown",
   "metadata": {},
   "source": [
    "### Ensemble the top 5 models"
   ]
  },
  {
   "cell_type": "code",
   "execution_count": 16,
   "metadata": {},
   "outputs": [
    {
     "name": "stdout",
     "output_type": "stream",
     "text": [
      "RMSE of ensembling the top 5 models: 0.08561\n"
     ]
    },
    {
     "data": {
      "text/plain": [
       "<matplotlib.legend.Legend at 0x7ff7203f0940>"
      ]
     },
     "execution_count": 16,
     "metadata": {},
     "output_type": "execute_result"
    },
    {
     "data": {
      "image/png": "[encoded data removed]",
      "text/plain": [
       "<Figure size 432x288 with 1 Axes>"
      ]
     },
     "metadata": {
      "needs_background": "light"
     },
     "output_type": "display_data"
    }
   ],
   "source": [
    "top_five_model = predicts.iloc[list(RMSE_scores.head(5).index),:]\n",
    "ensemble_predict = top_five_model.apply(lambda x: x.mean())\n",
    "ensemble_RMSE = np.sqrt(mean_squared_error(ensemble_predict, data[3]))\n",
    "print(\"RMSE of ensembling the top 5 models: %.5f\" %ensemble_RMSE)\n",
    "\n",
    "plt.scatter(range(data[3].shape[0]), data[3], color='black', label = 'Raw data')\n",
    "plt.plot(ensemble_predict, label = 'Predicted value')\n",
    "plt.legend()"
   ]
  },
  {
   "cell_type": "markdown",
   "metadata": {},
   "source": [
    "### Save all the results of model configuration in in-sample data as Settings_RMSE_scores.csv"
   ]
  },
  {
   "cell_type": "code",
   "execution_count": 17,
   "metadata": {},
   "outputs": [
    {
     "data": {
      "text/html": [
       "<div>\n",
       "<style scoped>\n",
       "    .dataframe tbody tr th:only-of-type {\n",
       "        vertical-align: middle;\n",
       "    }\n",
       "\n",
       "    .dataframe tbody tr th {\n",
       "        vertical-align: top;\n",
       "    }\n",
       "\n",
       "    .dataframe thead th {\n",
       "        text-align: right;\n",
       "    }\n",
       "</style>\n",
       "<table border=\"1\" class=\"dataframe\">\n",
       "  <thead>\n",
       "    <tr style=\"text-align: right;\">\n",
       "      <th></th>\n",
       "      <th>Epochs</th>\n",
       "      <th>Activation function</th>\n",
       "      <th>Hidden nodes</th>\n",
       "      <th>Optimizer</th>\n",
       "      <th>Initializer</th>\n",
       "      <th>Regularizer</th>\n",
       "      <th>In-sample RMSE</th>\n",
       "      <th>Out-of-sample RMSE</th>\n",
       "    </tr>\n",
       "  </thead>\n",
       "  <tbody>\n",
       "    <tr>\n",
       "      <th>0</th>\n",
       "      <td>300</td>\n",
       "      <td>tanh</td>\n",
       "      <td>11</td>\n",
       "      <td>Adam</td>\n",
       "      <td>Xavier</td>\n",
       "      <td>0</td>\n",
       "      <td>0.039193</td>\n",
       "      <td>0.089589</td>\n",
       "    </tr>\n",
       "    <tr>\n",
       "      <th>1</th>\n",
       "      <td>300</td>\n",
       "      <td>relu</td>\n",
       "      <td>11</td>\n",
       "      <td>Adam</td>\n",
       "      <td>Xavier</td>\n",
       "      <td>0</td>\n",
       "      <td>0.039725</td>\n",
       "      <td>0.146489</td>\n",
       "    </tr>\n",
       "    <tr>\n",
       "      <th>2</th>\n",
       "      <td>300</td>\n",
       "      <td>relu</td>\n",
       "      <td>8</td>\n",
       "      <td>Adam</td>\n",
       "      <td>Xavier</td>\n",
       "      <td>0.001</td>\n",
       "      <td>0.039849</td>\n",
       "      <td>0.079309</td>\n",
       "    </tr>\n",
       "    <tr>\n",
       "      <th>3</th>\n",
       "      <td>300</td>\n",
       "      <td>relu</td>\n",
       "      <td>8</td>\n",
       "      <td>Adam</td>\n",
       "      <td>Xavier</td>\n",
       "      <td>0.0001</td>\n",
       "      <td>0.040007</td>\n",
       "      <td>0.067949</td>\n",
       "    </tr>\n",
       "    <tr>\n",
       "      <th>4</th>\n",
       "      <td>300</td>\n",
       "      <td>relu</td>\n",
       "      <td>8</td>\n",
       "      <td>Adam</td>\n",
       "      <td>Xavier</td>\n",
       "      <td>0</td>\n",
       "      <td>0.040484</td>\n",
       "      <td>0.079757</td>\n",
       "    </tr>\n",
       "    <tr>\n",
       "      <th>...</th>\n",
       "      <td>...</td>\n",
       "      <td>...</td>\n",
       "      <td>...</td>\n",
       "      <td>...</td>\n",
       "      <td>...</td>\n",
       "      <td>...</td>\n",
       "      <td>...</td>\n",
       "      <td>...</td>\n",
       "    </tr>\n",
       "    <tr>\n",
       "      <th>967</th>\n",
       "      <td>200</td>\n",
       "      <td>relu</td>\n",
       "      <td>5</td>\n",
       "      <td>Momentum_with_cosine</td>\n",
       "      <td>small_random</td>\n",
       "      <td>0.001</td>\n",
       "      <td>3.919460</td>\n",
       "      <td>5.222644</td>\n",
       "    </tr>\n",
       "    <tr>\n",
       "      <th>968</th>\n",
       "      <td>200</td>\n",
       "      <td>relu</td>\n",
       "      <td>11</td>\n",
       "      <td>Adam_with_cosine</td>\n",
       "      <td>small_random</td>\n",
       "      <td>0.001</td>\n",
       "      <td>4.207827</td>\n",
       "      <td>4.849051</td>\n",
       "    </tr>\n",
       "    <tr>\n",
       "      <th>969</th>\n",
       "      <td>100</td>\n",
       "      <td>relu</td>\n",
       "      <td>8</td>\n",
       "      <td>SGD_with_cosine</td>\n",
       "      <td>small_random</td>\n",
       "      <td>0.0001</td>\n",
       "      <td>5.463849</td>\n",
       "      <td>5.311232</td>\n",
       "    </tr>\n",
       "    <tr>\n",
       "      <th>970</th>\n",
       "      <td>300</td>\n",
       "      <td>relu</td>\n",
       "      <td>5</td>\n",
       "      <td>Momentum_with_cosine</td>\n",
       "      <td>small_random</td>\n",
       "      <td>0.0001</td>\n",
       "      <td>5.622427</td>\n",
       "      <td>5.592003</td>\n",
       "    </tr>\n",
       "    <tr>\n",
       "      <th>971</th>\n",
       "      <td>100</td>\n",
       "      <td>relu</td>\n",
       "      <td>11</td>\n",
       "      <td>Adam_with_cosine</td>\n",
       "      <td>small_random</td>\n",
       "      <td>0</td>\n",
       "      <td>5.931022</td>\n",
       "      <td>5.678917</td>\n",
       "    </tr>\n",
       "  </tbody>\n",
       "</table>\n",
       "<p>972 rows × 8 columns</p>\n",
       "</div>"
      ],
      "text/plain": [
       "    Epochs Activation function Hidden nodes             Optimizer  \\\n",
       "0      300                tanh           11                  Adam   \n",
       "1      300                relu           11                  Adam   \n",
       "2      300                relu            8                  Adam   \n",
       "3      300                relu            8                  Adam   \n",
       "4      300                relu            8                  Adam   \n",
       "..     ...                 ...          ...                   ...   \n",
       "967    200                relu            5  Momentum_with_cosine   \n",
       "968    200                relu           11      Adam_with_cosine   \n",
       "969    100                relu            8       SGD_with_cosine   \n",
       "970    300                relu            5  Momentum_with_cosine   \n",
       "971    100                relu           11      Adam_with_cosine   \n",
       "\n",
       "      Initializer Regularizer  In-sample RMSE  Out-of-sample RMSE  \n",
       "0          Xavier           0        0.039193            0.089589  \n",
       "1          Xavier           0        0.039725            0.146489  \n",
       "2          Xavier       0.001        0.039849            0.079309  \n",
       "3          Xavier      0.0001        0.040007            0.067949  \n",
       "4          Xavier           0        0.040484            0.079757  \n",
       "..            ...         ...             ...                 ...  \n",
       "967  small_random       0.001        3.919460            5.222644  \n",
       "968  small_random       0.001        4.207827            4.849051  \n",
       "969  small_random      0.0001        5.463849            5.311232  \n",
       "970  small_random      0.0001        5.622427            5.592003  \n",
       "971  small_random           0        5.931022            5.678917  \n",
       "\n",
       "[972 rows x 8 columns]"
      ]
     },
     "execution_count": 17,
     "metadata": {},
     "output_type": "execute_result"
    }
   ],
   "source": [
    "RMSE_scores.reset_index(inplace=True, drop=True)\n",
    "RMSE_scores.to_csv(\"Settings_RMSE_scores.csv\", index=False)\n",
    "RMSE_scores"
   ]
  },
  {
   "cell_type": "markdown",
   "metadata": {},
   "source": [
    "### The best configuration in out-of-sample data"
   ]
  },
  {
   "cell_type": "code",
   "execution_count": 18,
   "metadata": {},
   "outputs": [
    {
     "data": {
      "text/html": [
       "<div>\n",
       "<style scoped>\n",
       "    .dataframe tbody tr th:only-of-type {\n",
       "        vertical-align: middle;\n",
       "    }\n",
       "\n",
       "    .dataframe tbody tr th {\n",
       "        vertical-align: top;\n",
       "    }\n",
       "\n",
       "    .dataframe thead th {\n",
       "        text-align: right;\n",
       "    }\n",
       "</style>\n",
       "<table border=\"1\" class=\"dataframe\">\n",
       "  <thead>\n",
       "    <tr style=\"text-align: right;\">\n",
       "      <th></th>\n",
       "      <th>Epochs</th>\n",
       "      <th>Activation function</th>\n",
       "      <th>Hidden nodes</th>\n",
       "      <th>Optimizer</th>\n",
       "      <th>Initializer</th>\n",
       "      <th>Regularizer</th>\n",
       "      <th>In-sample RMSE</th>\n",
       "      <th>Out-of-sample RMSE</th>\n",
       "    </tr>\n",
       "  </thead>\n",
       "  <tbody>\n",
       "    <tr>\n",
       "      <th>0</th>\n",
       "      <td>300</td>\n",
       "      <td>tanh</td>\n",
       "      <td>5</td>\n",
       "      <td>Momentum</td>\n",
       "      <td>Xavier</td>\n",
       "      <td>0</td>\n",
       "      <td>0.043948</td>\n",
       "      <td>0.047502</td>\n",
       "    </tr>\n",
       "  </tbody>\n",
       "</table>\n",
       "</div>"
      ],
      "text/plain": [
       "  Epochs Activation function Hidden nodes Optimizer Initializer Regularizer  \\\n",
       "0    300                tanh            5  Momentum      Xavier           0   \n",
       "\n",
       "   In-sample RMSE  Out-of-sample RMSE  \n",
       "0        0.043948            0.047502  "
      ]
     },
     "execution_count": 18,
     "metadata": {},
     "output_type": "execute_result"
    }
   ],
   "source": [
    "RMSE_scores.sort_values(\"Out-of-sample RMSE\", inplace=True)\n",
    "RMSE_scores.reset_index(inplace=True, drop=True)\n",
    "RMSE_scores[RMSE_scores[\"Out-of-sample RMSE\"]==min(RMSE_scores[\"Out-of-sample RMSE\"])]"
   ]
  }
 ],
 "metadata": {
  "accelerator": "GPU",
  "colab": {
   "collapsed_sections": [],
   "name": "HW2.ipynb",
   "provenance": []
  },
  "kernelspec": {
   "display_name": "Python 3",
   "language": "python",
   "name": "python3"
  },
  "language_info": {
   "codemirror_mode": {
    "name": "ipython",
    "version": 3
   },
   "file_extension": ".py",
   "mimetype": "text/x-python",
   "name": "python",
   "nbconvert_exporter": "python",
   "pygments_lexer": "ipython3",
   "version": "3.6.9"
  }
 },
 "nbformat": 4,
 "nbformat_minor": 4
}
